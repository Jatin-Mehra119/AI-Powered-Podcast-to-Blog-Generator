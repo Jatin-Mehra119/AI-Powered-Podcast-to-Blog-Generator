{
 "cells": [
  {
   "cell_type": "code",
   "execution_count": 8,
   "id": "eb5c5b53",
   "metadata": {},
   "outputs": [
    {
     "name": "stderr",
     "output_type": "stream",
     "text": [
      "2025-04-27 08:31:00,445 - INFO - Grok model initialized successfully\n",
      "2025-04-27 08:31:00,446 - INFO - Loading transcript from 'audio/Clean code challenge - Silicon Valley Season 5, Ep6.mp3' using model 'base'. Specified language: english\n"
     ]
    },
    {
     "name": "stderr",
     "output_type": "stream",
     "text": [
      "2025-04-27 08:31:01,236 - INFO - Whisper model 'base' loaded.\n",
      "2025-04-27 08:31:01,237 - INFO - Mapped 'english' to Whisper code 'en'\n",
      "2025-04-27 08:31:01,237 - INFO - Using specified language code for transcription: en\n",
      "2025-04-27 08:31:01,238 - INFO - Starting transcription for 'audio/Clean code challenge - Silicon Valley Season 5, Ep6.mp3'...\n",
      "/home/codespace/.python/current/lib/python3.12/site-packages/whisper/transcribe.py:132: UserWarning: FP16 is not supported on CPU; using FP32 instead\n",
      "  warnings.warn(\"FP16 is not supported on CPU; using FP32 instead\")\n",
      "2025-04-27 08:31:51,392 - INFO - Transcription successful. Detected language: en\n",
      "2025-04-27 08:31:51,392 - INFO - Processing transcript...\n",
      "2025-04-27 08:31:51,393 - INFO - Transcript processing complete.\n",
      "2025-04-27 08:31:51,402 - INFO - Processing transcript...\n",
      "2025-04-27 08:31:51,403 - INFO - Transcript processing complete.\n",
      "2025-04-27 08:31:51,404 - INFO - Transcript processed successfully\n",
      "2025-04-27 08:31:51,405 - INFO - Tools initialized\n",
      "2025-04-27 08:31:51,409 - INFO - Agent created\n",
      "2025-04-27 08:31:51,410 - INFO - Agent executor initialized\n"
     ]
    },
    {
     "name": "stdout",
     "output_type": "stream",
     "text": [
      "\n",
      "\n",
      "\u001b[1m> Entering new AgentExecutor chain...\u001b[0m\n"
     ]
    },
    {
     "name": "stderr",
     "output_type": "stream",
     "text": [
      "2025-04-27 08:31:51,713 - INFO - HTTP Request: POST https://api.groq.com/openai/v1/chat/completions \"HTTP/1.1 200 OK\"\n"
     ]
    },
    {
     "name": "stdout",
     "output_type": "stream",
     "text": [
      "\u001b[32;1m\u001b[1;3m\n",
      "Invoking: `tavily_search_results_json` with `{'query': 'coding culture competition blog post'}`\n",
      "\n",
      "\n",
      "\u001b[0m\u001b[36;1m\u001b[1;3m[{'title': '2^5 Coding Competition 2018 | Engineering Health', 'url': 'https://engineering.cerner.com/blog/2-to-the-5th-coding-competition-2018/', 'content': 'December 14, 2018\\n\\n2^5 Coding Competition 2018\\n\\nJenny Saqiurila\\n\\nAt Cerner, associates are always encouraged to develop tools and methods to improve their productivity. With this year’s theme being “Engineering Productivity,” Cerner’s fourth annual 2^5 Coding Competition provided associates another opportunity to dive into this subject and get involved in Cerner’s development culture. [...] As the 2^5 competition runs for 32 days, the maximum number of languages that could be used by a participant is 32 languages. Susmita was named this category winner because she submitted all 32 days worth of code and used 32 different languages.\\n\\nShipIt XIII\\n\\nNovember 16, 2018\\n\\nOur DevCulture Team: Connecting Communities & Empowering Teams to Invent the Future\\n\\nNovember 7, 2018\\n\\nShipIt XII\\n\\nAugust 30, 2018\\n\\nCopyright © 2023\\n\\nMade with ❤️ by Cerner engineers. [...] Even though each submission had to be 32 lines of code or less, it didn’t stop the participants from brainstorming and executing great ideas ranging from Jenkins Pipelines, creating shell commands, and automating tasks for the tools we use every day. The many entries received exemplified how easy it is to increase productivity in an engineer’s daily life with just a few lines of code.\\n\\nMy Experience', 'score': 0.70871735}, {'title': 'A Guide To Being A Competitive Coder At DA-IICT - Medium', 'url': 'https://medium.com/@daiictweb/a-guide-to-being-a-competitive-coder-at-da-iict-3a343a55fb7b', 'content': 'My Journey of Competitive Programming at DAIICT:\\n\\nI hardly knew about programming when I joined DA-IICT. After joining the college, we had the Programming Club’s orientation, in which I got to know about Competitive Programming. I also saw many posts on quora mentioning the great coding culture at DA-IICT and its performance at the world level. I found it very interesting, and it was also well appreciated, so I decided to give it a try. [...] Your patience, commitment, and uniformity are very important to become a good competitive programmer. Keep practising the coding questions every single day on these platforms. DA-IICT provided me with a community of like-minded people who have different skillsets in coding. Moreover, India is turning into a digital and start-up hub, and coding skills are just starting the in-demand climb.\\n\\n--\\n\\n--\\n\\nWritten by DA-IICT Blog [...] In this blog Nishant Shah, B.Tech 3rd-year student and Convener of the Programming Club at DA-IICT shares his experience in Competitive Programming. It will also be helpful for someone who wants to begin with Competitive Programming and excel at it. Currently, Nishant is ranked Top 17 in Codeforces and Top 30 in CodeChef in India. He also achieved global rank 5 in Google Kickstart Round G 2020.\\n\\nA Complete Roadmap\\n\\nWhat is Competitive Programming?', 'score': 0.6353361}, {'title': 'The Culture of Coding on Campus - Medium', 'url': 'https://medium.com/@daiictweb/the-culture-of-coding-on-campus-f421ae0ffe24', 'content': 'Sign up\\n\\nSign in\\n\\nSign up\\n\\nSign in\\n\\nThe Culture of Coding on Campus\\n\\n--\\n\\nListen\\n\\nShare\\n\\nKanupriya Dasgupta writes about the culture of coding at DA-IICT campus, about participating in ACM ICPC and representing India in the world finals and about various other coding competitions. [...] Utsav Rajpara says, “Youngsters are gradually easing into a better, more skilled programming zone through the number of coding platforms available. Gone are the days when one was dependent on brick and mortar computer labs to learn to code. The increasing penetration of the internet and the emergence of learning platforms has turned virtually every place into a classroom, given that one has the will to learn. And the programming club at DA-IICT is just facilitating those needs with our contests [...] Competition. Besides that, students from the institute have won in different intra-college events at IIIT Allahabad.', 'score': 0.6211049}, {'title': 'How to build a culture of code quality - Stepsize AI', 'url': 'https://www.stepsize.com/blog/how-to-build-a-culture-of-code-quality', 'content': 'CTOs and engineering managers need to establish agreed styles and standards to build a culture of code quality. They should also track high-quality issues, be awesome at code reviews, track code quality metrics, and engage in peer mentoring.\\n\\nThis blog post will discuss each of these core areas in detail.\\n\\n1. Establish agreed styles and standards [...] Pricing\\n\\nSecurity\\n\\nPricing\\n\\nSecurity\\n\\nHow to build a culture of code quality\\n\\nA code quality culture is essential to stay ahead of your competition. High code quality ensures your codebase is maintainable, scalable, and efficient. While a culture of code quality is an internal aspect of your engineering team, it directly affects your end users. High-quality code allows you to ship new features faster, improving the user experience.', 'score': 0.5973971}, {'title': 'Advice from a Google engineer: Join a coding competition', 'url': 'https://blog.google/inside-google/life-at-google/advice-google-engineer-join-coding-competition/', 'content': 'I’m clearly biased, but I think coding competitions are an excellent way to spend your free time. You\\xa0 build problem-solving skills while learning new techniques and thinking creatively. And my competitive programming mindset has given me an ability to \"think outside the box\" to better approach unexpected situations. Competitions also help you build stamina, resilience and confidence — it takes a lot of patience and dedication to sit through hours of algorithmic problem solving! [...] Since I participated before I was hired, the Kick Start team contacted me to see if I was interested in contributing to critical problem development work. I jumped at the opportunity, first with Kick Start and then with Code Jam. Google\\'s culture encourages engineers to use their skills and apply them toward the greater community, not just individual work. I really value this because the community aspect of coding competitions means a lot to me. It\\'s a place where I feel like I can learn from [...] Google\\'s Coding Competitions are back for 2021 with multiple opportunities for participants to improve their programming skills by solving algorithmic problems designed by Google engineers. Sadia Atique is a Site Reliability Engineer (SRE) based in Munich, Germany who works on the Corporate Engineering team and actively contributes to competitions like Code Jam and Kick Start. We recently sat down with Sadia to learn how she got involved in coding competitions and why she thinks you should', 'score': 0.5815176}]\u001b[0m"
     ]
    },
    {
     "name": "stderr",
     "output_type": "stream",
     "text": [
      "2025-04-27 08:31:57,246 - INFO - HTTP Request: POST https://api.groq.com/openai/v1/chat/completions \"HTTP/1.1 200 OK\"\n",
      "2025-04-27 08:31:58,353 - INFO - Blog post generated successfully\n",
      "2025-04-27 08:31:58,354 - INFO - Blog post saved to blog_post.md\n"
     ]
    },
    {
     "name": "stdout",
     "output_type": "stream",
     "text": [
      "\u001b[32;1m\u001b[1;3mThe Cutthroat World of Coding Competitions: A Lesson in Humility and Resilience\n",
      "\n",
      "In the world of software development, coding competitions have become a staple of engineering culture. These events bring together talented engineers to showcase their skills, creativity, and problem-solving abilities under pressure. But beyond the thrill of competition, coding competitions offer valuable lessons in humility, resilience, and teamwork.\n",
      "\n",
      "### The Dark Side of Coding Competitions\n",
      "\n",
      "Coding competitions can bring out the best and worst in people. The transcript provided earlier illustrates a toxic example of how competition can lead to trash-talking, bullying, and unprofessional behavior. This kind of behavior is unacceptable and can create a hostile work environment.\n",
      "\n",
      "### Building a Positive Coding Culture\n",
      "\n",
      "To avoid such negativity, it's essential to foster a positive coding culture that emphasizes collaboration, mutual respect, and constructive feedback. Here are some key takeaways:\n",
      "\n",
      "* **Establish agreed styles and standards**: CTOs and engineering managers should set clear guidelines for code quality, style, and best practices.\n",
      "* **Track code quality metrics**: Monitor and track code quality metrics to identify areas for improvement.\n",
      "* **Engage in peer mentoring**: Encourage senior engineers to mentor junior engineers and provide constructive feedback.\n",
      "\n",
      "According to Stepsize AI, \"a code quality culture is essential to stay ahead of your competition. High code quality ensures your codebase is maintainable, scalable, and efficient.\" [1]\n",
      "\n",
      "### The Benefits of Coding Competitions\n",
      "\n",
      "Despite the potential pitfalls, coding competitions offer numerous benefits, including:\n",
      "\n",
      "* **Improved problem-solving skills**: Coding competitions help engineers develop critical thinking and problem-solving skills.\n",
      "* **Enhanced creativity**: Competitions encourage engineers to think outside the box and come up with innovative solutions.\n",
      "* **Community building**: Coding competitions foster a sense of community among engineers, promoting collaboration and knowledge sharing.\n",
      "\n",
      "As a Google engineer notes, \"coding competitions are an excellent way to spend your free time. You build problem-solving skills while learning new techniques and thinking creatively.\" [2]\n",
      "\n",
      "### Conclusion\n",
      "\n",
      "Coding competitions can be a valuable tool for engineers to improve their skills, learn from others, and build a sense of community. However, it's essential to maintain a positive and respectful coding culture that emphasizes collaboration, mutual respect, and constructive feedback. By doing so, we can create a supportive environment where engineers can grow, learn, and thrive.\n",
      "\n",
      "References:\n",
      "\n",
      "[1] https://www.stepsize.com/blog/how-to-build-a-culture-of-code-quality\n",
      "[2] https://blog.google/inside-google/life-at-google/advice-google-engineer-join-coding-competition/\u001b[0m\n",
      "\n",
      "\u001b[1m> Finished chain.\u001b[0m\n"
     ]
    }
   ],
   "source": [
    "from langchain.prompts import ChatPromptTemplate, MessagesPlaceholder\n",
    "from langchain.agents import AgentExecutor, create_tool_calling_agent\n",
    "from langchain_groq import ChatGroq\n",
    "from langchain_community.tools.tavily_search import TavilySearchResults\n",
    "from preprocessing import load_transcript, process_transcript\n",
    "import os\n",
    "import logging\n",
    "from dotenv import load_dotenv\n",
    "\n",
    "# Configure logging\n",
    "os.makedirs(\"logs\", exist_ok=True)\n",
    "logging.basicConfig(\n",
    "    level=logging.INFO,\n",
    "    format='%(asctime)s - %(levelname)s - %(message)s',\n",
    "    handlers=[\n",
    "        logging.FileHandler(\"logs/blog_generator.log\"),\n",
    "        logging.StreamHandler()\n",
    "    ]\n",
    ")\n",
    "logger = logging.getLogger(__name__)\n",
    "\n",
    "# Load environment variables\n",
    "load_dotenv()\n",
    "\n",
    "# Verify API keys\n",
    "if not os.getenv(\"GROQ_API_KEY\") or not os.getenv(\"TAVILY_API_KEY\"):\n",
    "    logger.error(\"GROQ_API_KEY or TAVILY_API_KEY not set in .env file\")\n",
    "    exit(1)\n",
    "\n",
    "# Initialize the language model\n",
    "try:\n",
    "    llm = ChatGroq(temperature=0, model_name=\"meta-llama/llama-4-scout-17b-16e-instruct\") \n",
    "    logger.info(\"Grok model initialized successfully\")\n",
    "except Exception as e:\n",
    "    logger.error(f\"Failed to initialize Grok model: {e}\")\n",
    "    exit(1)\n",
    "\n",
    "# Preprocess the audio file\n",
    "audio_file = \"audio/Clean code challenge - Silicon Valley Season 5, Ep6.mp3\"\n",
    "try:\n",
    "    transcript = load_transcript(model_type=\"base\", file_path=audio_file, language=\"english\")\n",
    "    cleaned_transcript = process_transcript(transcript)\n",
    "    transcript = cleaned_transcript\n",
    "    logger.info(\"Transcript processed successfully\")\n",
    "except Exception as e:\n",
    "    logger.error(f\"Error during transcription: {e}\")\n",
    "    exit(1)\n",
    "\n",
    "# Chunk transcript if too long\n",
    "def chunk_transcript(transcript, max_length=10000):\n",
    "    return [transcript[i:i+max_length] for i in range(0, len(transcript), max_length)]\n",
    "\n",
    "transcript_chunks = chunk_transcript(transcript)\n",
    "if len(transcript_chunks) > 1:\n",
    "    logger.warning(f\"Transcript split into {len(transcript_chunks)} chunks due to length\")\n",
    "    transcript = transcript_chunks[0]  # Use first chunk for simplicity\n",
    "\n",
    "# Define tools\n",
    "tools = [TavilySearchResults(max_results=5)]\n",
    "logger.info(\"Tools initialized\")\n",
    "\n",
    "# Define the prompt using {input} instead of {transcript}\n",
    "prompt = ChatPromptTemplate.from_messages([\n",
    "    (\"system\", \"\"\"\n",
    "You are a helpful assistant that generates blog posts based on provided transcripts. The blog post MUST:\n",
    "- Be informative, engaging, and well-structured with an introduction, 2-3 subheadings, bullet points where relevant, and a conclusion.\n",
    "- Include at least one hyperlink to a credible source from Tavily Search results to support claims or add depth.\n",
    "- Be written in a professional yet approachable tone, suitable for software developers and tech enthusiasts.\n",
    "Instructions:\n",
    "1. Extract key themes from the transcript provided in the input and craft a narrative.\n",
    "2. Use Tavily Search to find relevant information (e.g., on coding culture or competition).\n",
    "3. Explicitly cite at least one search result with a hyperlink in the blog post.\n",
    "4. Structure the blog post clearly with subheadings and bullet points for key insights or recommendations.\n",
    "    \"\"\"),\n",
    "    (\"human\", \"{input}\"),  # Use {input} to match the agent's input key\n",
    "    MessagesPlaceholder(variable_name=\"agent_scratchpad\"),\n",
    "])\n",
    "\n",
    "# Construct the tool-calling agent\n",
    "agent = create_tool_calling_agent(llm, tools, prompt)\n",
    "logger.info(\"Agent created\")\n",
    "\n",
    "# Create an agent executor\n",
    "agent_executor = AgentExecutor(agent=agent, tools=tools, verbose=True)\n",
    "logger.info(\"Agent executor initialized\")\n",
    "\n",
    "# Invoke the agent\n",
    "try:\n",
    "    blog_result = agent_executor.invoke({\n",
    "        \"input\": f\"Generate a blog post based on this transcript: {transcript}\"\n",
    "    })\n",
    "    logger.info(\"Blog post generated successfully\")\n",
    "except Exception as e:\n",
    "    logger.error(f\"Error during agent execution: {e}\")\n",
    "    exit(1)\n",
    "\n",
    "# Save the blog post\n",
    "output_file = \"blog_post.md\"\n",
    "try:\n",
    "    with open(output_file, \"w\") as f:\n",
    "        f.write(blog_result[\"output\"])\n",
    "    logger.info(f\"Blog post saved to {output_file}\")\n",
    "except Exception as e:\n",
    "    logger.error(f\"Error saving blog post: {e}\")"
   ]
  },
  {
   "cell_type": "code",
   "execution_count": 10,
   "id": "0d20b428",
   "metadata": {},
   "outputs": [],
   "source": [
    "blog_conten = blog_result.copy()"
   ]
  },
  {
   "cell_type": "code",
   "execution_count": 17,
   "id": "99021742",
   "metadata": {},
   "outputs": [
    {
     "name": "stderr",
     "output_type": "stream",
     "text": [
      "2025-04-27 08:46:51,383 - INFO - HTTP Request: POST https://api.groq.com/openai/v1/chat/completions \"HTTP/1.1 200 OK\"\n",
      "2025-04-27 08:46:51,385 - INFO - SEO elements generated successfully\n"
     ]
    },
    {
     "data": {
      "text/plain": [
       "{'lc': 1,\n",
       " 'type': 'constructor',\n",
       " 'id': ['langchain', 'schema', 'messages', 'AIMessage'],\n",
       " 'kwargs': {'content': 'Here are the suggested SEO-friendly title, meta description, tags, and keywords:\\n\\n**SEO-friendly Title (under 60 characters)**\\n\"Coding Competitions: Humility & Resilience\"\\n\\n**Meta Description (under 160 characters)**\\n\"Learn how coding competitions can improve skills & foster community, but also require humility & resilience. Discover best practices for a positive coding culture.\"\\n\\n**Tags (5-10)**\\n* Coding competitions\\n* Software development\\n* Engineering culture\\n* Problem-solving skills\\n* Teamwork and collaboration\\n* Code quality\\n* Resilience in tech\\n* Humility in coding\\n* Positive coding culture\\n\\n**Keywords (5-7)**\\n* Coding competitions\\n* Software development\\n* Problem-solving skills\\n* Code quality\\n* Resilience\\n* Humility\\n* Teamwork\\n\\nNote that I\\'ve focused on using relevant and specific keywords that accurately reflect the content of the blog post, while also keeping the title and meta description concise and compelling. The tags and keywords can be adjusted based on your specific needs and target audience.',\n",
       "  'response_metadata': {'token_usage': {'completion_tokens': 211,\n",
       "    'prompt_tokens': 567,\n",
       "    'total_tokens': 778,\n",
       "    'completion_time': 0.428007846,\n",
       "    'prompt_time': 0.017822392,\n",
       "    'queue_time': 0.046608894000000005,\n",
       "    'total_time': 0.445830238},\n",
       "   'model_name': 'meta-llama/llama-4-scout-17b-16e-instruct',\n",
       "   'system_fingerprint': 'fp_37da608fc1',\n",
       "   'finish_reason': 'stop',\n",
       "   'logprobs': None},\n",
       "  'type': 'ai',\n",
       "  'id': 'run-c53e1dea-383a-44a7-bd2d-9ff6df89ef81-0',\n",
       "  'usage_metadata': {'input_tokens': 567,\n",
       "   'output_tokens': 211,\n",
       "   'total_tokens': 778},\n",
       "  'tool_calls': [],\n",
       "  'invalid_tool_calls': []}}"
      ]
     },
     "execution_count": 17,
     "metadata": {},
     "output_type": "execute_result"
    }
   ],
   "source": [
    "def generate_seo_elements(blog_content):\n",
    "    seo_prompt = ChatPromptTemplate.from_messages([\n",
    "        (\"human\", \"\"\"\n",
    "        Given this blog post, suggest:\n",
    "        - An SEO-friendly title (under 60 characters).\n",
    "        - A meta description (under 160 characters).\n",
    "        - 5-10 tags.\n",
    "        - 5-7 keywords.\n",
    "        Blog post: {blog_content}\n",
    "        \"\"\")\n",
    "    ])\n",
    "    chain = seo_prompt | llm\n",
    "    return chain.invoke({\"blog_content\": blog_content})\n",
    "\n",
    "# Generate SEO elements\n",
    "try:\n",
    "    seo_elements = generate_seo_elements(blog_conten[\"output\"])\n",
    "    logger.info(\"SEO elements generated successfully\")\n",
    "except Exception as e:\n",
    "    logger.error(f\"Error generating SEO elements: {e}\")\n",
    "    exit(1)\n",
    "\n",
    "seo_elements\n",
    "\n",
    "# pretty print the SEO elements\n",
    "import json\n",
    "seo_elements.to_json()"
   ]
  },
  {
   "cell_type": "code",
   "execution_count": null,
   "id": "1f71b2b2",
   "metadata": {},
   "outputs": [],
   "source": [
    "def generate_faq(transcript):\n",
    "    faq_prompt = ChatPromptTemplate.from_messages([\n",
    "        (\"human\", \"\"\"\n",
    "        Identify 3-5 potential questions from the transcript and provide concise answers in an FAQ format.\n",
    "        Transcript: {transcript}\n",
    "        \"\"\")\n",
    "    ])\n",
    "    chain = faq_prompt | llm\n",
    "    return chain.invoke({\"transcript\": transcript})"
   ]
  },
  {
   "cell_type": "code",
   "execution_count": null,
   "id": "292f5873",
   "metadata": {},
   "outputs": [],
   "source": [
    "def generate_social_media(blog_content):\n",
    "    social_prompt = ChatPromptTemplate.from_messages([\n",
    "        (\"human\", \"\"\"\n",
    "        Create:\n",
    "        - 1 Twitter post (<280 characters)\n",
    "        - 1 LinkedIn post (200-300 words)\n",
    "        - 1 Instagram caption (50-100 words)\n",
    "        Based on this blog post: {blog_content}\n",
    "        \"\"\")\n",
    "    ])\n",
    "    chain = social_prompt | llm\n",
    "    return chain.invoke({\"blog_content\": blog_content})"
   ]
  },
  {
   "cell_type": "code",
   "execution_count": null,
   "id": "e375f808",
   "metadata": {},
   "outputs": [],
   "source": [
    "def generate_newsletter(blog_content):\n",
    "    newsletter_prompt = ChatPromptTemplate.from_messages([\n",
    "        (\"human\", \"Create a 100-150 word summary of this blog post for a newsletter: {blog_content}\")\n",
    "    ])\n",
    "    chain = newsletter_prompt | llm\n",
    "    return chain.invoke({\"blog_content\": blog_content})"
   ]
  },
  {
   "cell_type": "code",
   "execution_count": null,
   "id": "16978450",
   "metadata": {},
   "outputs": [],
   "source": [
    "def extract_quotes(transcript):\n",
    "    quote_prompt = ChatPromptTemplate.from_messages([\n",
    "        (\"human\", \"Extract 3-5 memorable quotes from this transcript: {transcript}\")\n",
    "    ])\n",
    "    chain = quote_prompt | llm\n",
    "    return chain.invoke({\"transcript\": transcript})"
   ]
  },
  {
   "cell_type": "code",
   "execution_count": null,
   "id": "a001dc6d",
   "metadata": {},
   "outputs": [],
   "source": []
  }
 ],
 "metadata": {
  "kernelspec": {
   "display_name": "Python 3",
   "language": "python",
   "name": "python3"
  },
  "language_info": {
   "codemirror_mode": {
    "name": "ipython",
    "version": 3
   },
   "file_extension": ".py",
   "mimetype": "text/x-python",
   "name": "python",
   "nbconvert_exporter": "python",
   "pygments_lexer": "ipython3",
   "version": "3.12.1"
  }
 },
 "nbformat": 4,
 "nbformat_minor": 5
}
